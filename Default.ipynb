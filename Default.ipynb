{
    "cells": [
        {
            "metadata": {
                "collapsed": true
            },
            "cell_type": "markdown",
            "source": "My Jupyter Notebook on IBM Watson Studio"
        },
        {
            "metadata": {},
            "cell_type": "markdown",
            "source": "Edward Mungai\nStudent"
        },
        {
            "metadata": {},
            "cell_type": "markdown",
            "source": "I am interested in data scientist because it helps in solving my analytic problems"
        },
        {
            "metadata": {},
            "cell_type": "markdown",
            "source": "Code will calculate sum of three separately defined variables"
        },
        {
            "metadata": {},
            "cell_type": "code",
            "source": "a=1\nb=2\nc=15\nprint(a+b+c)",
            "execution_count": 2,
            "outputs": [
                {
                    "output_type": "stream",
                    "text": "18\n",
                    "name": "stdout"
                }
            ]
        },
        {
            "metadata": {},
            "cell_type": "code",
            "source": "",
            "execution_count": null,
            "outputs": []
        }
    ],
    "metadata": {
        "kernelspec": {
            "name": "python3",
            "display_name": "Python 3.6",
            "language": "python"
        },
        "language_info": {
            "name": "python",
            "version": "3.6.9",
            "mimetype": "text/x-python",
            "codemirror_mode": {
                "name": "ipython",
                "version": 3
            },
            "pygments_lexer": "ipython3",
            "nbconvert_exporter": "python",
            "file_extension": ".py"
        }
    },
    "nbformat": 4,
    "nbformat_minor": 1
}